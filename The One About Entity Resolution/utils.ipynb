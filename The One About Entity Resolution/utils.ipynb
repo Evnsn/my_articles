{
 "cells": [
  {
   "cell_type": "code",
   "execution_count": null,
   "id": "913580ca-37ef-407b-be94-0b24b2241f1e",
   "metadata": {},
   "outputs": [],
   "source": []
  },
  {
   "cell_type": "code",
   "execution_count": 48,
   "id": "5813a592-9eae-43ce-baf7-02c0df9a1c0d",
   "metadata": {
    "jupyter": {
     "source_hidden": true
    }
   },
   "outputs": [],
   "source": [
    "import numpy as np\n",
    "from recordlinkage.base import BaseCompareFeature\n",
    "\n",
    "class JaccardSimilarity(BaseCompareFeature):\n",
    "    \n",
    "    def _compute_vectorized(self, strings1, strings2):\n",
    "        set1 = np.array([set(string) for string in strings1])\n",
    "        set2 = np.array([set(string) for string in strings2])\n",
    "    \n",
    "        intersection = np.array([len(s1 & s2) for s1, s2 in zip(set1, set2)])\n",
    "        union = np.array([len(s1 | s2) for s1, s2 in zip(set1, set2)])\n",
    "    \n",
    "        jaccard_similarity = intersection / union\n",
    "        jaccard_similarity[np.isnan(jaccard_similarity)] = 0\n",
    "    \n",
    "        return pd.DataFrame(jaccard_similarity, columns=[\"Jaccard Similarity\"])\n",
    "    "
   ]
  },
  {
   "cell_type": "code",
   "execution_count": 207,
   "id": "70d65edf-dc6c-4a59-9d2f-edc3e4a9d3ed",
   "metadata": {
    "jupyter": {
     "source_hidden": true
    }
   },
   "outputs": [],
   "source": [
    "import numpy as np\n",
    "\n",
    "def generate_candidate_pairs(index1, index2=None):\n",
    "    if index2 != None:\n",
    "        combinations = np.transpose([np.tile(index1, len(index2)), np.repeat(index2, len(index1))])\n",
    "        return combinations.tolist()\n",
    "    else:\n",
    "        combinations = np.array(np.meshgrid(index1, index1)).T.reshape(-1, 2) # Generate every combinations\n",
    "        unique_combinations = combinations[combinations[:, 0] < combinations[:, 1]] # Select only unique combinations\n",
    "        return unique_combinations.tolist()\n",
    "        \n",
    "def generate_true_matches(df):\n",
    "    candidate_pairs = []\n",
    "    for i, group in df.groupby(\"cluster\"): # Groups record matches\n",
    "        if group.shape[0]>1:\n",
    "            candidate_pair = generate_candidate_pairs(group.index) # Generate pairs\n",
    "            candidate_pairs.append(candidate_pair)\n",
    "    candidate_pairs = np.array(candidate_pairs).reshape(-1,2).T\n",
    "    return pd.MultiIndex.from_arrays(candidate_pairs, names=('rec_1', 'rec_2'))"
   ]
  },
  {
   "cell_type": "code",
   "execution_count": 156,
   "id": "5d233b49-9f41-4434-8392-177f8a825597",
   "metadata": {},
   "outputs": [],
   "source": [
    "from recordlinkage.datasets import load_febrl3\n",
    "df, true_links = load_febrl3(True)"
   ]
  },
  {
   "cell_type": "code",
   "execution_count": 157,
   "id": "baa0f2d1-b8a4-463c-a4b3-3eda65f63785",
   "metadata": {},
   "outputs": [],
   "source": [
    "import recordlinkage\n",
    "from recordlinkage.index import Block\n",
    "\n",
    "indexer = recordlinkage.Index([\n",
    "    Block(\"date_of_birth\")\n",
    "])\n",
    "\n",
    "candidate_pairs = indexer.index(df)"
   ]
  },
  {
   "cell_type": "code",
   "execution_count": 201,
   "id": "5bf488d6-eaf5-4224-bbb5-c3d905511a53",
   "metadata": {},
   "outputs": [],
   "source": [
    "from recordlinkage.compare import String\n",
    "\n",
    "comparer = recordlinkage.Compare([\n",
    "    String(\"given_name\", \"given_name\", method=\"jarowinkler\", label=\"given_name\"),\n",
    "    String(\"surname\", \"surname\", method=\"jarowinkler\", label=\"surname\"),\n",
    "    String(\"soc_sec_id\", \"soc_sec_id\", method=\"jarowinkler\", label=\"soc_sec_id\"),\n",
    "    String(\"address_1\", \"address_1\", method=\"jarowinkler\", label=\"address_1\"),\n",
    "])\n",
    "\n",
    "comparison_vector = comparer.compute(candidate_pairs, df)"
   ]
  },
  {
   "cell_type": "code",
   "execution_count": 202,
   "id": "3623fea2-aa37-4a77-988d-94d3842e27a3",
   "metadata": {},
   "outputs": [
    {
     "data": {
      "text/plain": [
       "5966"
      ]
     },
     "execution_count": 202,
     "metadata": {},
     "output_type": "execute_result"
    }
   ],
   "source": [
    "len(comparison_vector)"
   ]
  },
  {
   "cell_type": "code",
   "execution_count": 203,
   "id": "0c926928-1e4a-4c41-9879-65114ecbddcc",
   "metadata": {},
   "outputs": [],
   "source": [
    "ecm = recordlinkage.ECMClassifier(binarize=0.1)\n",
    "\n",
    "pred_links = ecm.fit_predict(comparison_vector)"
   ]
  },
  {
   "cell_type": "code",
   "execution_count": 204,
   "id": "43a5d419-b859-4f6d-9a2f-962a59bc501b",
   "metadata": {},
   "outputs": [
    {
     "data": {
      "text/plain": [
       "5836"
      ]
     },
     "execution_count": 204,
     "metadata": {},
     "output_type": "execute_result"
    }
   ],
   "source": [
    "len(pred_links)"
   ]
  },
  {
   "cell_type": "code",
   "execution_count": 200,
   "id": "38897f3c-60ad-4b04-a5b3-6e7dac7a72b9",
   "metadata": {},
   "outputs": [
    {
     "data": {
      "text/plain": [
       "<Axes: ylabel='Frequency'>"
      ]
     },
     "execution_count": 200,
     "metadata": {},
     "output_type": "execute_result"
    },
    {
     "data": {
      "image/png": "[encoded data removed]",
      "text/plain": [
       "<Figure size 640x480 with 1 Axes>"
      ]
     },
     "metadata": {},
     "output_type": "display_data"
    }
   ],
   "source": [
    "ecm.prob(comparison_vector).plot.hist(bins=20)"
   ]
  },
  {
   "cell_type": "code",
   "execution_count": null,
   "id": "2ce2e582-461f-4120-b630-40e3b7ce17e1",
   "metadata": {},
   "outputs": [],
   "source": []
  }
 ],
 "metadata": {
  "kernelspec": {
   "display_name": "Python 3 (ipykernel)",
   "language": "python",
   "name": "python3"
  },
  "language_info": {
   "codemirror_mode": {
    "name": "ipython",
    "version": 3
   },
   "file_extension": ".py",
   "mimetype": "text/x-python",
   "name": "python",
   "nbconvert_exporter": "python",
   "pygments_lexer": "ipython3",
   "version": "3.10.11"
  }
 },
 "nbformat": 4,
 "nbformat_minor": 5
}
