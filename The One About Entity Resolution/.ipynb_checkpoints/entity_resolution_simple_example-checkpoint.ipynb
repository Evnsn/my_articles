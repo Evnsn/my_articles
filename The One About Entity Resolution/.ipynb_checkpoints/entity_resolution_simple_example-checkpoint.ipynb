{
 "cells": [
  {
   "attachments": {},
   "cell_type": "markdown",
   "metadata": {},
   "source": [
    "# Entity Resolution - Simple Example"
   ]
  },
  {
   "cell_type": "markdown",
   "metadata": {},
   "source": [
    "## Loading and Splitting the Dataset"
   ]
  },
  {
   "cell_type": "code",
   "execution_count": 31,
   "metadata": {},
   "outputs": [],
   "source": [
    "import pandas as pd\n",
    "data = pd.read_csv(\"./data/restaurants.csv\")"
   ]
  },
  {
   "cell_type": "code",
   "execution_count": 32,
   "metadata": {},
   "outputs": [
    {
     "data": {
      "text/html": [
       "<div>\n",
       "<style scoped>\n",
       "    .dataframe tbody tr th:only-of-type {\n",
       "        vertical-align: middle;\n",
       "    }\n",
       "\n",
       "    .dataframe tbody tr th {\n",
       "        vertical-align: top;\n",
       "    }\n",
       "\n",
       "    .dataframe thead th {\n",
       "        text-align: right;\n",
       "    }\n",
       "</style>\n",
       "<table border=\"1\" class=\"dataframe\">\n",
       "  <thead>\n",
       "    <tr style=\"text-align: right;\">\n",
       "      <th></th>\n",
       "      <th>name</th>\n",
       "      <th>address</th>\n",
       "      <th>city</th>\n",
       "      <th>phone</th>\n",
       "      <th>category</th>\n",
       "      <th>cluster</th>\n",
       "    </tr>\n",
       "  </thead>\n",
       "  <tbody>\n",
       "    <tr>\n",
       "      <th>0</th>\n",
       "      <td>arnie morton's of chicago</td>\n",
       "      <td>435 s. la cienega blv.</td>\n",
       "      <td>los angeles</td>\n",
       "      <td>310/246-1501</td>\n",
       "      <td>american</td>\n",
       "      <td>0</td>\n",
       "    </tr>\n",
       "    <tr>\n",
       "      <th>1</th>\n",
       "      <td>arnie morton's of chicago</td>\n",
       "      <td>435 s. la cienega blvd.</td>\n",
       "      <td>los angeles</td>\n",
       "      <td>310-246-1501</td>\n",
       "      <td>steakhouses</td>\n",
       "      <td>0</td>\n",
       "    </tr>\n",
       "    <tr>\n",
       "      <th>2</th>\n",
       "      <td>art's delicatessen</td>\n",
       "      <td>12224 ventura blvd.</td>\n",
       "      <td>studio city</td>\n",
       "      <td>818/762-1221</td>\n",
       "      <td>american</td>\n",
       "      <td>1</td>\n",
       "    </tr>\n",
       "  </tbody>\n",
       "</table>\n",
       "</div>"
      ],
      "text/plain": [
       "                        name                  address         city  \\\n",
       "0  arnie morton's of chicago   435 s. la cienega blv.  los angeles   \n",
       "1  arnie morton's of chicago  435 s. la cienega blvd.  los angeles   \n",
       "2         art's delicatessen      12224 ventura blvd.  studio city   \n",
       "\n",
       "          phone     category  cluster  \n",
       "0  310/246-1501     american        0  \n",
       "1  310-246-1501  steakhouses        0  \n",
       "2  818/762-1221     american        1  "
      ]
     },
     "execution_count": 32,
     "metadata": {},
     "output_type": "execute_result"
    }
   ],
   "source": [
    "data.head(3)"
   ]
  },
  {
   "cell_type": "code",
   "execution_count": 65,
   "metadata": {},
   "outputs": [],
   "source": [
    "X = data.drop(\"cluster\", axis=1)\n",
    "y = data[\"cluster\"].to_frame()"
   ]
  },
  {
   "cell_type": "markdown",
   "metadata": {},
   "source": [
    "## Blocking\n",
    "- Attribute Equialent (phone)\n",
    "- Prefix (name)\n",
    "- Suffix (name)\n",
    "- Soundex (address)"
   ]
  },
  {
   "cell_type": "code",
   "execution_count": 66,
   "metadata": {},
   "outputs": [],
   "source": [
    "import jellyfish\n",
    "\n",
    "def feature_generation(df):\n",
    "    df = df.copy()\n",
    "    df[\"phone\"] = df[\"phone\"].str.replace(r'\\D', '') # Remove punctuation from 'phone'\n",
    "    df[\"name_prefix\"] = df[\"name\"].str[0:3]\n",
    "    df[\"name_suffix\"] = df[\"name\"].str[-3:]\n",
    "    df[\"address_soundex\"] = df[\"address\"].apply(lambda x: jellyfish.soundex(x))\n",
    "    return df\n",
    "    "
   ]
  },
  {
   "cell_type": "code",
   "execution_count": 67,
   "metadata": {},
   "outputs": [],
   "source": [
    "from recordlinkage.index import Block\n",
    "\n",
    "def count_candidate_pairs(attr, df):\n",
    "    blk_phone = Block(attr)\n",
    "    candidate_pairs = blk_phone.index(df)\n",
    "    print(f\"{attr}: {candidate_pairs.shape} pairs\")\n",
    "    "
   ]
  },
  {
   "cell_type": "code",
   "execution_count": 68,
   "metadata": {},
   "outputs": [
    {
     "name": "stdout",
     "output_type": "stream",
     "text": [
      "phone: (122,) pairs\n",
      "name_prefix: (1675,) pairs\n",
      "name_suffix: (2764,) pairs\n",
      "address_soundex: (2989,) pairs\n"
     ]
    },
    {
     "name": "stderr",
     "output_type": "stream",
     "text": [
      "C:\\Users\\atvi\\AppData\\Local\\Temp\\ipykernel_26304\\527412152.py:5: FutureWarning: The default value of regex will change from True to False in a future version.\n",
      "  df[\"phone\"] = df[\"phone\"].str.replace(r'\\D', '') # Remove punctuation from 'phone'\n"
     ]
    }
   ],
   "source": [
    "X_df_blocking = feature_generation(X)\n",
    "\n",
    "for attr in [\"phone\", \"name_prefix\", \"name_suffix\", \"address_soundex\"]:\n",
    "    count_candidate_pairs(attr, X_df_blocking)"
   ]
  },
  {
   "cell_type": "code",
   "execution_count": 69,
   "metadata": {},
   "outputs": [],
   "source": [
    "import recordlinkage as rl\n",
    "\n",
    "indexer = rl.Index(\n",
    "    [\n",
    "        Block(\"phone\"),\n",
    "        Block(\"name_prefix\"),\n",
    "        Block(\"name_suffix\"),\n",
    "        Block(\"address_soundex\"),\n",
    "    ]\n",
    ")"
   ]
  },
  {
   "cell_type": "code",
   "execution_count": 70,
   "metadata": {},
   "outputs": [],
   "source": [
    "candidate_pairs = indexer.index(X_df_blocking)"
   ]
  },
  {
   "cell_type": "code",
   "execution_count": 71,
   "metadata": {},
   "outputs": [
    {
     "name": "stdout",
     "output_type": "stream",
     "text": [
      "Number of candidate pairs 7177\n"
     ]
    }
   ],
   "source": [
    "print(f\"Number of candidate pairs {candidate_pairs.shape[0]}\")"
   ]
  },
  {
   "cell_type": "markdown",
   "metadata": {},
   "source": [
    "## Comparing\n",
    "- name (Jaro-Winkler)\n",
    "- address (Jaccard)\n",
    "- city (Jaro-Winkler)\n",
    "- phone (Jaro-Winkler)\n",
    "- category (Jaro-Winkler)"
   ]
  },
  {
   "cell_type": "code",
   "execution_count": 72,
   "metadata": {},
   "outputs": [],
   "source": [
    "from recordlinkage.compare import Exact, String\n",
    "from recordlinkage.datasets import load_febrl1\n",
    "\n",
    "comparer = rl.Compare(\n",
    "    [\n",
    "        String(\"name\", \"name\", method=\"jarowinkler\", label=\"name\"),\n",
    "        String(\"address\", \"address\", method=\"jarowinkler\", label=\"address\"),\n",
    "        String(\"city\", \"city\", method=\"jarowinkler\", label=\"city\"),\n",
    "        String(\"phone\", \"phone\", method=\"jarowinkler\", label=\"phone\"),\n",
    "        String(\"category\", \"category\", method=\"jarowinkler\", label=\"category\"),\n",
    "    ]\n",
    ")"
   ]
  },
  {
   "cell_type": "code",
   "execution_count": 73,
   "metadata": {},
   "outputs": [],
   "source": [
    "comparison_vector = comparer.compute(candidate_pairs, X)"
   ]
  },
  {
   "cell_type": "code",
   "execution_count": 74,
   "metadata": {},
   "outputs": [
    {
     "data": {
      "text/html": [
       "<div>\n",
       "<style scoped>\n",
       "    .dataframe tbody tr th:only-of-type {\n",
       "        vertical-align: middle;\n",
       "    }\n",
       "\n",
       "    .dataframe tbody tr th {\n",
       "        vertical-align: top;\n",
       "    }\n",
       "\n",
       "    .dataframe thead th {\n",
       "        text-align: right;\n",
       "    }\n",
       "</style>\n",
       "<table border=\"1\" class=\"dataframe\">\n",
       "  <thead>\n",
       "    <tr style=\"text-align: right;\">\n",
       "      <th></th>\n",
       "      <th></th>\n",
       "      <th>name</th>\n",
       "      <th>address</th>\n",
       "      <th>city</th>\n",
       "      <th>phone</th>\n",
       "      <th>category</th>\n",
       "    </tr>\n",
       "  </thead>\n",
       "  <tbody>\n",
       "    <tr>\n",
       "      <th>1</th>\n",
       "      <th>0</th>\n",
       "      <td>1.000000</td>\n",
       "      <td>0.991304</td>\n",
       "      <td>1.0</td>\n",
       "      <td>0.918687</td>\n",
       "      <td>0.310606</td>\n",
       "    </tr>\n",
       "    <tr>\n",
       "      <th>3</th>\n",
       "      <th>2</th>\n",
       "      <td>0.911111</td>\n",
       "      <td>1.000000</td>\n",
       "      <td>1.0</td>\n",
       "      <td>0.918687</td>\n",
       "      <td>0.550000</td>\n",
       "    </tr>\n",
       "    <tr>\n",
       "      <th>5</th>\n",
       "      <th>4</th>\n",
       "      <td>0.589744</td>\n",
       "      <td>1.000000</td>\n",
       "      <td>1.0</td>\n",
       "      <td>0.918687</td>\n",
       "      <td>1.000000</td>\n",
       "    </tr>\n",
       "  </tbody>\n",
       "</table>\n",
       "</div>"
      ],
      "text/plain": [
       "         name   address  city     phone  category\n",
       "1 0  1.000000  0.991304   1.0  0.918687  0.310606\n",
       "3 2  0.911111  1.000000   1.0  0.918687  0.550000\n",
       "5 4  0.589744  1.000000   1.0  0.918687  1.000000"
      ]
     },
     "execution_count": 74,
     "metadata": {},
     "output_type": "execute_result"
    }
   ],
   "source": [
    "comparison_vector.head(3)"
   ]
  },
  {
   "cell_type": "markdown",
   "metadata": {},
   "source": [
    "## Train Classifier"
   ]
  },
  {
   "cell_type": "code",
   "execution_count": null,
   "metadata": {},
   "outputs": [],
   "source": []
  },
  {
   "cell_type": "code",
   "execution_count": 99,
   "metadata": {},
   "outputs": [],
   "source": [
    "cl = rl.ECMClassifier(binarize=0.1)\n",
    "\n",
    "y_pred = cl.fit_predict(comparison_vector)"
   ]
  },
  {
   "cell_type": "code",
   "execution_count": null,
   "metadata": {},
   "outputs": [],
   "source": [
    "### Prepare target values\n",
    "RecordLinkage "
   ]
  },
  {
   "cell_type": "code",
   "execution_count": 91,
   "metadata": {},
   "outputs": [],
   "source": [
    "import numpy as np\n",
    "        \n",
    "def generate_true_matches(df):\n",
    "    true_matches = []\n",
    "    for _, group in df.groupby(\"cluster\"): # Groups record matches\n",
    "        if group.shape[0] >1:\n",
    "            index = group.index\n",
    "            combinations = np.array(np.meshgrid(index, index)).T.reshape(-1, 2) # Generate every combination of pairs\n",
    "            unique_combinations = combinations[combinations[:, 0] < combinations[:, 1]] # Select only unique combinations\n",
    "            true_match = unique_combinations.tolist()\n",
    "            true_matches.append(true_match)\n",
    "    true_matches_np = np.array(true_matches).reshape(-1,2).T\n",
    "    return pd.MultiIndex.from_arrays(true_matches_np, names=('rec_1', 'rec_2'))"
   ]
  },
  {
   "cell_type": "code",
   "execution_count": 92,
   "metadata": {},
   "outputs": [
    {
     "data": {
      "text/plain": [
       "MultiIndex([(0, 1),\n",
       "            (2, 3),\n",
       "            (4, 5)],\n",
       "           names=['rec_1', 'rec_2'])"
      ]
     },
     "execution_count": 92,
     "metadata": {},
     "output_type": "execute_result"
    }
   ],
   "source": [
    "train_true_matches = generate_true_matches(y)\n",
    "train_true_matches[0:3]"
   ]
  },
  {
   "cell_type": "code",
   "execution_count": null,
   "metadata": {},
   "outputs": [],
   "source": []
  }
 ],
 "metadata": {
  "kernelspec": {
   "display_name": "Python 3 (ipykernel)",
   "language": "python",
   "name": "python3"
  },
  "language_info": {
   "codemirror_mode": {
    "name": "ipython",
    "version": 3
   },
   "file_extension": ".py",
   "mimetype": "text/x-python",
   "name": "python",
   "nbconvert_exporter": "python",
   "pygments_lexer": "ipython3",
   "version": "3.10.11"
  }
 },
 "nbformat": 4,
 "nbformat_minor": 4
}
