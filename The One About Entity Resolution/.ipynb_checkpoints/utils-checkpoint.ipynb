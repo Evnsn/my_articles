{
 "cells": [
  {
   "cell_type": "code",
   "execution_count": null,
   "id": "913580ca-37ef-407b-be94-0b24b2241f1e",
   "metadata": {},
   "outputs": [],
   "source": []
  },
  {
   "cell_type": "code",
   "execution_count": 48,
   "id": "5813a592-9eae-43ce-baf7-02c0df9a1c0d",
   "metadata": {},
   "outputs": [],
   "source": [
    "import numpy as np\n",
    "from recordlinkage.base import BaseCompareFeature\n",
    "\n",
    "class JaccardSimilarity(BaseCompareFeature):\n",
    "    \n",
    "    def _compute_vectorized(self, strings1, strings2):\n",
    "        set1 = np.array([set(string) for string in strings1])\n",
    "        set2 = np.array([set(string) for string in strings2])\n",
    "    \n",
    "        intersection = np.array([len(s1 & s2) for s1, s2 in zip(set1, set2)])\n",
    "        union = np.array([len(s1 | s2) for s1, s2 in zip(set1, set2)])\n",
    "    \n",
    "        jaccard_similarity = intersection / union\n",
    "        jaccard_similarity[np.isnan(jaccard_similarity)] = 0\n",
    "    \n",
    "        return pd.DataFrame(jaccard_similarity, columns=[\"Jaccard Similarity\"])\n",
    "    "
   ]
  },
  {
   "cell_type": "code",
   "execution_count": 207,
   "id": "70d65edf-dc6c-4a59-9d2f-edc3e4a9d3ed",
   "metadata": {},
   "outputs": [],
   "source": [
    "import numpy as np\n",
    "\n",
    "def generate_candidate_pairs(index1, index2=None):\n",
    "    if index2 != None:\n",
    "        combinations = np.transpose([np.tile(index1, len(index2)), np.repeat(index2, len(index1))])\n",
    "        return combinations.tolist()\n",
    "    else:\n",
    "        combinations = np.array(np.meshgrid(index1, index1)).T.reshape(-1, 2) # Generate every combinations\n",
    "        unique_combinations = combinations[combinations[:, 0] < combinations[:, 1]] # Select only unique combinations\n",
    "        return unique_combinations.tolist()\n",
    "        \n",
    "def generate_true_matches(df):\n",
    "    candidate_pairs = []\n",
    "    for i, group in df.groupby(\"cluster\"): # Groups record matches\n",
    "        if group.shape[0]>1:\n",
    "            candidate_pair = generate_candidate_pairs(group.index) # Generate pairs\n",
    "            candidate_pairs.append(candidate_pair)\n",
    "    candidate_pairs = np.array(candidate_pairs).reshape(-1,2).T\n",
    "    return pd.MultiIndex.from_arrays(candidate_pairs, names=('rec_1', 'rec_2'))"
   ]
  }
 ],
 "metadata": {
  "kernelspec": {
   "display_name": "Python 3 (ipykernel)",
   "language": "python",
   "name": "python3"
  },
  "language_info": {
   "codemirror_mode": {
    "name": "ipython",
    "version": 3
   },
   "file_extension": ".py",
   "mimetype": "text/x-python",
   "name": "python",
   "nbconvert_exporter": "python",
   "pygments_lexer": "ipython3",
   "version": "3.10.11"
  }
 },
 "nbformat": 4,
 "nbformat_minor": 5
}
