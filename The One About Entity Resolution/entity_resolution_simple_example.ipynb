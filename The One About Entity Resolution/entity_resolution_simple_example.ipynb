{
 "cells": [
  {
   "attachments": {},
   "cell_type": "markdown",
   "metadata": {},
   "source": [
    "# Entity Resolution - Simple Example"
   ]
  },
  {
   "cell_type": "markdown",
   "metadata": {},
   "source": [
    "## Loading and Splitting the Dataset"
   ]
  },
  {
   "cell_type": "code",
   "execution_count": 58,
   "metadata": {},
   "outputs": [],
   "source": [
    "import pandas as pd\n",
    "data = pd.read_csv(\"./data/restaurants.csv\")"
   ]
  },
  {
   "cell_type": "code",
   "execution_count": 59,
   "metadata": {},
   "outputs": [],
   "source": [
    "data.index = [\"rec_\" + str(i) for i in data.index] # Change index\n",
    "data.index.name = \"rec\""
   ]
  },
  {
   "cell_type": "code",
   "execution_count": 60,
   "metadata": {},
   "outputs": [
    {
     "data": {
      "text/html": [
       "<div>\n",
       "<style scoped>\n",
       "    .dataframe tbody tr th:only-of-type {\n",
       "        vertical-align: middle;\n",
       "    }\n",
       "\n",
       "    .dataframe tbody tr th {\n",
       "        vertical-align: top;\n",
       "    }\n",
       "\n",
       "    .dataframe thead th {\n",
       "        text-align: right;\n",
       "    }\n",
       "</style>\n",
       "<table border=\"1\" class=\"dataframe\">\n",
       "  <thead>\n",
       "    <tr style=\"text-align: right;\">\n",
       "      <th></th>\n",
       "      <th>name</th>\n",
       "      <th>address</th>\n",
       "      <th>city</th>\n",
       "      <th>phone</th>\n",
       "      <th>category</th>\n",
       "      <th>cluster</th>\n",
       "    </tr>\n",
       "    <tr>\n",
       "      <th>rec</th>\n",
       "      <th></th>\n",
       "      <th></th>\n",
       "      <th></th>\n",
       "      <th></th>\n",
       "      <th></th>\n",
       "      <th></th>\n",
       "    </tr>\n",
       "  </thead>\n",
       "  <tbody>\n",
       "    <tr>\n",
       "      <th>rec_0</th>\n",
       "      <td>arnie morton's of chicago</td>\n",
       "      <td>435 s. la cienega blv.</td>\n",
       "      <td>los angeles</td>\n",
       "      <td>310/246-1501</td>\n",
       "      <td>american</td>\n",
       "      <td>0</td>\n",
       "    </tr>\n",
       "    <tr>\n",
       "      <th>rec_1</th>\n",
       "      <td>arnie morton's of chicago</td>\n",
       "      <td>435 s. la cienega blvd.</td>\n",
       "      <td>los angeles</td>\n",
       "      <td>310-246-1501</td>\n",
       "      <td>steakhouses</td>\n",
       "      <td>0</td>\n",
       "    </tr>\n",
       "    <tr>\n",
       "      <th>rec_2</th>\n",
       "      <td>art's delicatessen</td>\n",
       "      <td>12224 ventura blvd.</td>\n",
       "      <td>studio city</td>\n",
       "      <td>818/762-1221</td>\n",
       "      <td>american</td>\n",
       "      <td>1</td>\n",
       "    </tr>\n",
       "  </tbody>\n",
       "</table>\n",
       "</div>"
      ],
      "text/plain": [
       "                            name                  address         city  \\\n",
       "rec                                                                      \n",
       "rec_0  arnie morton's of chicago   435 s. la cienega blv.  los angeles   \n",
       "rec_1  arnie morton's of chicago  435 s. la cienega blvd.  los angeles   \n",
       "rec_2         art's delicatessen      12224 ventura blvd.  studio city   \n",
       "\n",
       "              phone     category  cluster  \n",
       "rec                                        \n",
       "rec_0  310/246-1501     american        0  \n",
       "rec_1  310-246-1501  steakhouses        0  \n",
       "rec_2  818/762-1221     american        1  "
      ]
     },
     "execution_count": 60,
     "metadata": {},
     "output_type": "execute_result"
    }
   ],
   "source": [
    "data.head(3)"
   ]
  },
  {
   "cell_type": "code",
   "execution_count": 61,
   "metadata": {},
   "outputs": [],
   "source": [
    "X = data.drop(\"cluster\", axis=1)\n",
    "y = data[\"cluster\"].to_frame()"
   ]
  },
  {
   "cell_type": "markdown",
   "metadata": {},
   "source": [
    "## Blocking\n",
    "- Attribute Equialent (phone)\n",
    "- Prefix (name)\n",
    "- Suffix (name)\n",
    "- Soundex (address)"
   ]
  },
  {
   "cell_type": "code",
   "execution_count": 62,
   "metadata": {},
   "outputs": [],
   "source": [
    "import jellyfish\n",
    "\n",
    "def feature_generation(df):\n",
    "    df = df.copy()\n",
    "    df[\"phone\"] = df[\"phone\"].str.replace(r'\\D', '') # Remove punctuation from 'phone'\n",
    "    df[\"name_prefix\"] = df[\"name\"].str[0:3]\n",
    "    df[\"name_suffix\"] = df[\"name\"].str[-3:]\n",
    "    df[\"address_soundex\"] = df[\"address\"].apply(lambda x: jellyfish.soundex(x))\n",
    "    return df\n",
    "    "
   ]
  },
  {
   "cell_type": "code",
   "execution_count": 63,
   "metadata": {},
   "outputs": [],
   "source": [
    "from recordlinkage.index import Block\n",
    "\n",
    "def count_candidate_pairs(attr, df):\n",
    "    blk_phone = Block(attr)\n",
    "    candidate_pairs = blk_phone.index(df)\n",
    "    print(f\"{attr}: {candidate_pairs.shape} pairs\")\n",
    "    "
   ]
  },
  {
   "cell_type": "code",
   "execution_count": 64,
   "metadata": {},
   "outputs": [
    {
     "name": "stdout",
     "output_type": "stream",
     "text": [
      "phone: (122,) pairs\n",
      "name_prefix: (1675,) pairs\n",
      "name_suffix: (2764,) pairs\n",
      "address_soundex: (2989,) pairs\n"
     ]
    },
    {
     "name": "stderr",
     "output_type": "stream",
     "text": [
      "C:\\Users\\atvi\\AppData\\Local\\Temp\\ipykernel_13836\\527412152.py:5: FutureWarning: The default value of regex will change from True to False in a future version.\n",
      "  df[\"phone\"] = df[\"phone\"].str.replace(r'\\D', '') # Remove punctuation from 'phone'\n"
     ]
    }
   ],
   "source": [
    "X_df_blocking = feature_generation(X)\n",
    "\n",
    "for attr in [\"phone\", \"name_prefix\", \"name_suffix\", \"address_soundex\"]:\n",
    "    count_candidate_pairs(attr, X_df_blocking)"
   ]
  },
  {
   "cell_type": "code",
   "execution_count": 141,
   "metadata": {},
   "outputs": [],
   "source": [
    "import recordlinkage as rl\n",
    "\n",
    "indexer = rl.Index(\n",
    "    [\n",
    "        Block(\"phone\"),\n",
    "        Block(\"name_prefix\"),\n",
    "        Block(\"name_suffix\"),\n",
    "        Block(\"address_soundex\"),\n",
    "    ]\n",
    ")"
   ]
  },
  {
   "cell_type": "code",
   "execution_count": 142,
   "metadata": {},
   "outputs": [],
   "source": [
    "candidate_pairs = indexer.index(X_df_blocking)"
   ]
  },
  {
   "cell_type": "code",
   "execution_count": 143,
   "metadata": {},
   "outputs": [],
   "source": [
    "# print(f\"Number of candidate pairs {candidate_pairs.shape[0]}\")"
   ]
  },
  {
   "cell_type": "markdown",
   "metadata": {},
   "source": [
    "## Comparing\n",
    "- name (Jaro-Winkler)\n",
    "- address (Jaccard)\n",
    "- city (Jaro-Winkler)\n",
    "- phone (Jaro-Winkler)\n",
    "- category (Jaro-Winkler)"
   ]
  },
  {
   "cell_type": "code",
   "execution_count": 180,
   "metadata": {},
   "outputs": [],
   "source": [
    "from recordlinkage.compare import Exact, String\n",
    "from recordlinkage.datasets import load_febrl1\n",
    "\n",
    "comparer = rl.Compare(\n",
    "    [\n",
    "        # String(\"name\", \"name\", method=\"jarowinkler\", label=\"name\"),\n",
    "        # String(\"address\", \"address\", method=\"jarowinkler\", label=\"address\"),\n",
    "        # String(\"city\", \"city\", method=\"jarowinkler\", label=\"city\"),\n",
    "    #     String(\"phone\", \"phone\", method=\"jarowinkler\", label=\"phone\"),\n",
    "    #     String(\"category\", \"category\", method=\"jarowinkler\", label=\"category\"),\n",
    "    ]\n",
    ")"
   ]
  },
  {
   "cell_type": "code",
   "execution_count": 181,
   "metadata": {},
   "outputs": [],
   "source": [
    "comparison_vector = comparer.compute(candidate_pairs, X)"
   ]
  },
  {
   "cell_type": "code",
   "execution_count": 182,
   "metadata": {},
   "outputs": [
    {
     "data": {
      "text/plain": [
       "7177"
      ]
     },
     "execution_count": 182,
     "metadata": {},
     "output_type": "execute_result"
    }
   ],
   "source": [
    "len(comparison_vector)"
   ]
  },
  {
   "cell_type": "code",
   "execution_count": 183,
   "metadata": {},
   "outputs": [
    {
     "data": {
      "text/html": [
       "<div>\n",
       "<style scoped>\n",
       "    .dataframe tbody tr th:only-of-type {\n",
       "        vertical-align: middle;\n",
       "    }\n",
       "\n",
       "    .dataframe tbody tr th {\n",
       "        vertical-align: top;\n",
       "    }\n",
       "\n",
       "    .dataframe thead th {\n",
       "        text-align: right;\n",
       "    }\n",
       "</style>\n",
       "<table border=\"1\" class=\"dataframe\">\n",
       "  <thead>\n",
       "    <tr style=\"text-align: right;\">\n",
       "      <th></th>\n",
       "      <th></th>\n",
       "      <th>city</th>\n",
       "    </tr>\n",
       "    <tr>\n",
       "      <th>rec_1</th>\n",
       "      <th>rec_2</th>\n",
       "      <th></th>\n",
       "    </tr>\n",
       "  </thead>\n",
       "  <tbody>\n",
       "    <tr>\n",
       "      <th>rec_722</th>\n",
       "      <th>rec_373</th>\n",
       "      <td>0.923077</td>\n",
       "    </tr>\n",
       "    <tr>\n",
       "      <th>rec_596</th>\n",
       "      <th>rec_207</th>\n",
       "      <td>1.000000</td>\n",
       "    </tr>\n",
       "    <tr>\n",
       "      <th>rec_748</th>\n",
       "      <th>rec_353</th>\n",
       "      <td>0.472222</td>\n",
       "    </tr>\n",
       "    <tr>\n",
       "      <th>rec_835</th>\n",
       "      <th>rec_197</th>\n",
       "      <td>1.000000</td>\n",
       "    </tr>\n",
       "    <tr>\n",
       "      <th>rec_389</th>\n",
       "      <th>rec_293</th>\n",
       "      <td>1.000000</td>\n",
       "    </tr>\n",
       "    <tr>\n",
       "      <th>rec_352</th>\n",
       "      <th>rec_211</th>\n",
       "      <td>0.535256</td>\n",
       "    </tr>\n",
       "    <tr>\n",
       "      <th>rec_788</th>\n",
       "      <th>rec_442</th>\n",
       "      <td>0.000000</td>\n",
       "    </tr>\n",
       "    <tr>\n",
       "      <th>rec_768</th>\n",
       "      <th>rec_47</th>\n",
       "      <td>0.292023</td>\n",
       "    </tr>\n",
       "    <tr>\n",
       "      <th>rec_423</th>\n",
       "      <th>rec_211</th>\n",
       "      <td>0.535256</td>\n",
       "    </tr>\n",
       "    <tr>\n",
       "      <th>rec_738</th>\n",
       "      <th>rec_441</th>\n",
       "      <td>0.923077</td>\n",
       "    </tr>\n",
       "    <tr>\n",
       "      <th>rec_335</th>\n",
       "      <th>rec_102</th>\n",
       "      <td>1.000000</td>\n",
       "    </tr>\n",
       "    <tr>\n",
       "      <th>rec_293</th>\n",
       "      <th>rec_64</th>\n",
       "      <td>1.000000</td>\n",
       "    </tr>\n",
       "    <tr>\n",
       "      <th>rec_522</th>\n",
       "      <th>rec_141</th>\n",
       "      <td>0.476190</td>\n",
       "    </tr>\n",
       "    <tr>\n",
       "      <th>rec_471</th>\n",
       "      <th>rec_92</th>\n",
       "      <td>1.000000</td>\n",
       "    </tr>\n",
       "    <tr>\n",
       "      <th>rec_440</th>\n",
       "      <th>rec_397</th>\n",
       "      <td>1.000000</td>\n",
       "    </tr>\n",
       "    <tr>\n",
       "      <th>rec_652</th>\n",
       "      <th>rec_58</th>\n",
       "      <td>0.558333</td>\n",
       "    </tr>\n",
       "    <tr>\n",
       "      <th>rec_824</th>\n",
       "      <th>rec_65</th>\n",
       "      <td>0.406593</td>\n",
       "    </tr>\n",
       "    <tr>\n",
       "      <th>rec_415</th>\n",
       "      <th>rec_340</th>\n",
       "      <td>1.000000</td>\n",
       "    </tr>\n",
       "    <tr>\n",
       "      <th>rec_27</th>\n",
       "      <th>rec_26</th>\n",
       "      <td>1.000000</td>\n",
       "    </tr>\n",
       "    <tr>\n",
       "      <th>rec_573</th>\n",
       "      <th>rec_449</th>\n",
       "      <td>0.535256</td>\n",
       "    </tr>\n",
       "  </tbody>\n",
       "</table>\n",
       "</div>"
      ],
      "text/plain": [
       "                     city\n",
       "rec_1   rec_2            \n",
       "rec_722 rec_373  0.923077\n",
       "rec_596 rec_207  1.000000\n",
       "rec_748 rec_353  0.472222\n",
       "rec_835 rec_197  1.000000\n",
       "rec_389 rec_293  1.000000\n",
       "rec_352 rec_211  0.535256\n",
       "rec_788 rec_442  0.000000\n",
       "rec_768 rec_47   0.292023\n",
       "rec_423 rec_211  0.535256\n",
       "rec_738 rec_441  0.923077\n",
       "rec_335 rec_102  1.000000\n",
       "rec_293 rec_64   1.000000\n",
       "rec_522 rec_141  0.476190\n",
       "rec_471 rec_92   1.000000\n",
       "rec_440 rec_397  1.000000\n",
       "rec_652 rec_58   0.558333\n",
       "rec_824 rec_65   0.406593\n",
       "rec_415 rec_340  1.000000\n",
       "rec_27  rec_26   1.000000\n",
       "rec_573 rec_449  0.535256"
      ]
     },
     "execution_count": 183,
     "metadata": {},
     "output_type": "execute_result"
    }
   ],
   "source": [
    "comparison_vector.sample(20)"
   ]
  },
  {
   "cell_type": "markdown",
   "metadata": {},
   "source": [
    "## Train Classifier"
   ]
  },
  {
   "cell_type": "code",
   "execution_count": 184,
   "metadata": {},
   "outputs": [],
   "source": [
    "ecm = rl.ECMClassifier(binarize=0.1)\n",
    "\n",
    "y_pred = ecm.fit_predict(comparison_vector)"
   ]
  },
  {
   "cell_type": "code",
   "execution_count": 185,
   "metadata": {},
   "outputs": [
    {
     "data": {
      "text/plain": [
       "0"
      ]
     },
     "execution_count": 185,
     "metadata": {},
     "output_type": "execute_result"
    }
   ],
   "source": [
    "len(y_pred)"
   ]
  },
  {
   "cell_type": "markdown",
   "metadata": {},
   "source": [
    "### Prepare target values\n",
    "RecordLinkage "
   ]
  },
  {
   "cell_type": "code",
   "execution_count": 83,
   "metadata": {},
   "outputs": [],
   "source": [
    "import numpy as np\n",
    "        \n",
    "def generate_true_matches(df):\n",
    "    true_matches = []\n",
    "    for _, group in df.groupby(\"cluster\"): # Groups record matches\n",
    "        if group.shape[0] >1:\n",
    "            index = group.index\n",
    "            combinations = np.array(np.meshgrid(index, index)).T.reshape(-1, 2) # Generate every combination of pairs\n",
    "            unique_combinations = combinations[combinations[:, 0] > combinations[:, 1]] # Select only unique combinations\n",
    "            true_match = unique_combinations.tolist()\n",
    "            true_matches.append(true_match)\n",
    "    true_matches_np = np.array(true_matches).reshape(-1,2).T\n",
    "    return pd.MultiIndex.from_arrays(true_matches_np, names=('rec_1', 'rec_2'))"
   ]
  },
  {
   "cell_type": "code",
   "execution_count": 84,
   "metadata": {},
   "outputs": [
    {
     "data": {
      "text/plain": [
       "MultiIndex([( 'rec_1',  'rec_0'),\n",
       "            ( 'rec_3',  'rec_2'),\n",
       "            ( 'rec_5',  'rec_4'),\n",
       "            ( 'rec_7',  'rec_6'),\n",
       "            ( 'rec_9',  'rec_8'),\n",
       "            ('rec_11', 'rec_10'),\n",
       "            ('rec_13', 'rec_12'),\n",
       "            ('rec_15', 'rec_14'),\n",
       "            ('rec_17', 'rec_16'),\n",
       "            ('rec_19', 'rec_18')],\n",
       "           names=['rec_1', 'rec_2'])"
      ]
     },
     "execution_count": 84,
     "metadata": {},
     "output_type": "execute_result"
    }
   ],
   "source": [
    "y_multi_index = generate_true_matches(y)\n",
    "y_multi_index[0:10]"
   ]
  },
  {
   "cell_type": "code",
   "execution_count": 46,
   "metadata": {},
   "outputs": [
    {
     "data": {
      "text/plain": [
       "MultiIndex([(  'rec_rec_rec_1',   'rec_rec_rec_0'),\n",
       "            ('rec_rec_rec_100',  'rec_rec_rec_90'),\n",
       "            ('rec_rec_rec_100',  'rec_rec_rec_91'),\n",
       "            ('rec_rec_rec_101', 'rec_rec_rec_100'),\n",
       "            ('rec_rec_rec_101',  'rec_rec_rec_90'),\n",
       "            ('rec_rec_rec_101',  'rec_rec_rec_91'),\n",
       "            ('rec_rec_rec_103', 'rec_rec_rec_102'),\n",
       "            ('rec_rec_rec_103',  'rec_rec_rec_87'),\n",
       "            ('rec_rec_rec_104',  'rec_rec_rec_48'),\n",
       "            ('rec_rec_rec_104',  'rec_rec_rec_49'),\n",
       "            ...\n",
       "            ( 'rec_rec_rec_96',  'rec_rec_rec_32'),\n",
       "            ( 'rec_rec_rec_96',  'rec_rec_rec_33'),\n",
       "            ( 'rec_rec_rec_97',  'rec_rec_rec_32'),\n",
       "            ( 'rec_rec_rec_97',  'rec_rec_rec_33'),\n",
       "            ( 'rec_rec_rec_97',  'rec_rec_rec_96'),\n",
       "            ( 'rec_rec_rec_98',  'rec_rec_rec_56'),\n",
       "            ( 'rec_rec_rec_98',  'rec_rec_rec_57'),\n",
       "            ( 'rec_rec_rec_99',  'rec_rec_rec_56'),\n",
       "            ( 'rec_rec_rec_99',  'rec_rec_rec_57'),\n",
       "            ( 'rec_rec_rec_99',  'rec_rec_rec_98')],\n",
       "           length=7177)"
      ]
     },
     "execution_count": 46,
     "metadata": {},
     "output_type": "execute_result"
    }
   ],
   "source": [
    "y_pred"
   ]
  },
  {
   "cell_type": "code",
   "execution_count": 47,
   "metadata": {},
   "outputs": [],
   "source": [
    "### Evaluate"
   ]
  },
  {
   "cell_type": "code",
   "execution_count": 48,
   "metadata": {},
   "outputs": [],
   "source": [
    "tot_pairs = (len(X)*(len(X)-1))/2\n",
    "cm = rl.confusion_matrix(y_multi_index, y_pred, total=tot_pairs)"
   ]
  },
  {
   "cell_type": "code",
   "execution_count": 49,
   "metadata": {},
   "outputs": [
    {
     "data": {
      "text/html": [
       "<div>\n",
       "<style scoped>\n",
       "    .dataframe tbody tr th:only-of-type {\n",
       "        vertical-align: middle;\n",
       "    }\n",
       "\n",
       "    .dataframe tbody tr th {\n",
       "        vertical-align: top;\n",
       "    }\n",
       "\n",
       "    .dataframe thead th {\n",
       "        text-align: right;\n",
       "    }\n",
       "</style>\n",
       "<table border=\"1\" class=\"dataframe\">\n",
       "  <thead>\n",
       "    <tr style=\"text-align: right;\">\n",
       "      <th></th>\n",
       "      <th>Predicted Positives</th>\n",
       "      <th>Predicted Negatives</th>\n",
       "    </tr>\n",
       "  </thead>\n",
       "  <tbody>\n",
       "    <tr>\n",
       "      <th>True Positives</th>\n",
       "      <td>112</td>\n",
       "      <td>0</td>\n",
       "    </tr>\n",
       "    <tr>\n",
       "      <th>True Negatives</th>\n",
       "      <td>7065</td>\n",
       "      <td>365639</td>\n",
       "    </tr>\n",
       "  </tbody>\n",
       "</table>\n",
       "</div>"
      ],
      "text/plain": [
       "                Predicted Positives  Predicted Negatives\n",
       "True Positives                  112                    0\n",
       "True Negatives                 7065               365639"
      ]
     },
     "execution_count": 49,
     "metadata": {},
     "output_type": "execute_result"
    }
   ],
   "source": [
    "pd.DataFrame(cm, columns=[\"Predicted Positives\", \"Predicted Negatives\"], index=[\"True Positives\", \"True Negatives\"])"
   ]
  },
  {
   "cell_type": "code",
   "execution_count": null,
   "metadata": {},
   "outputs": [],
   "source": []
  }
 ],
 "metadata": {
  "kernelspec": {
   "display_name": "Python 3 (ipykernel)",
   "language": "python",
   "name": "python3"
  },
  "language_info": {
   "codemirror_mode": {
    "name": "ipython",
    "version": 3
   },
   "file_extension": ".py",
   "mimetype": "text/x-python",
   "name": "python",
   "nbconvert_exporter": "python",
   "pygments_lexer": "ipython3",
   "version": "3.10.11"
  }
 },
 "nbformat": 4,
 "nbformat_minor": 4
}
