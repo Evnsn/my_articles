{
 "cells": [
  {
   "cell_type": "markdown",
   "metadata": {},
   "source": [
    "# A Quick Introduction to Model Context Protocol (MCP) in Python\n",
    "This notebook is a complementary resource to Medium blog [A Quick Introduction to Model Context Protocol (MCP) in Python](https://medium.com/p/bee6d36334ec). \n",
    "\n",
    "In this notebook we'll show how LLMs struggle with simple tasks like counting letters, and how one can implement Function Calling to overcome such obsticals. Further on, the Function Call is added to a MCP server (sdir) with FastMCP which an Agent can access.\n",
    "\n",
    "### ToC:\n",
    "#### Can LLMs count how many R's are there in the word 'Strawberry'?\n",
    "#### 1. Create an Agent with Funciton Call\n",
    "#### 2. Create MCP server"
   ]
  },
  {
   "cell_type": "markdown",
   "metadata": {},
   "source": [
    "## Imports"
   ]
  },
  {
   "cell_type": "code",
   "execution_count": 1,
   "metadata": {},
   "outputs": [],
   "source": [
    "import os\n",
    "\n",
    "import anthropic\n",
    "from dotenv import load_dotenv"
   ]
  },
  {
   "cell_type": "markdown",
   "metadata": {},
   "source": [
    "## Can LLMs count how many R's are there in the word 'Strawberry'?"
   ]
  },
  {
   "cell_type": "code",
   "execution_count": 2,
   "metadata": {},
   "outputs": [],
   "source": [
    "load_dotenv()\n",
    "API_KEY = os.getenv(\"ANTHROPIC_API_KEY\")\n",
    "\n",
    "user_prompt = \"How many R's are there in the word 'Strawberry'?\"\n",
    "\n",
    "client = anthropic.Anthropic(api_key=API_KEY)\n",
    "\n",
    "\n",
    "response = client.messages.create(\n",
    "    model=\"claude-3-5-haiku-20241022\",\n",
    "    max_tokens=1024,\n",
    "    messages=[{\"role\": \"user\", \"content\": user_prompt}]\n",
    ")"
   ]
  },
  {
   "cell_type": "code",
   "execution_count": 5,
   "metadata": {},
   "outputs": [
    {
     "name": "stdout",
     "output_type": "stream",
     "text": [
      "Let me count the R's in the word 'Strawberry':\n",
      "\n",
      "S t r a w b e r r y\n",
      "\n",
      "There are 2 R's in the word 'Strawberry'.\n"
     ]
    }
   ],
   "source": [
    "print(response.content[0].text)"
   ]
  },
  {
   "cell_type": "markdown",
   "metadata": {},
   "source": [
    " ## 1. Create an Agent with Funciton Call"
   ]
  },
  {
   "cell_type": "markdown",
   "metadata": {},
   "source": [
    "### Create Python Function"
   ]
  },
  {
   "cell_type": "code",
   "execution_count": 2,
   "metadata": {},
   "outputs": [],
   "source": [
    "def count_letters(word:str, letter:str) -> int:\n",
    "    \"\"\" Count letter in a word. \"\"\"\n",
    "    return word.lower().count(letter.lower())"
   ]
  },
  {
   "cell_type": "markdown",
   "metadata": {},
   "source": [
    "### Create Agent"
   ]
  },
  {
   "cell_type": "code",
   "execution_count": 3,
   "metadata": {},
   "outputs": [],
   "source": [
    "import os\n",
    "\n",
    "import anthropic\n",
    "from dotenv import load_dotenv\n",
    "\n",
    "def query_agent(user_prompt:str) -> str:\n",
    "    \"\"\" Agent abple to execute 'count_letters' function. \"\"\"\n",
    "    load_dotenv()\n",
    "    API_KEY = os.getenv(\"ANTHROPIC_API_KEY\")\n",
    "\n",
    "    # Initialize the Anthropic client\n",
    "    client = anthropic.Anthropic(api_key=API_KEY)\n",
    "\n",
    "    # Define the tools that the agent can use\n",
    "    tools = [\n",
    "        {\n",
    "            \"name\": \"count_letters\",\n",
    "            \"description\": \"Count letter in a word.\",\n",
    "            \"input_schema\": {\n",
    "                \"type\": \"object\",\n",
    "                \"properties\": {\n",
    "                    \"word\": {\n",
    "                        \"type\": \"string\",\n",
    "                        \"description\": \"The word to count letters in.\"\n",
    "                    },\n",
    "                    \"letter\": {\n",
    "                        \"type\": \"string\",\n",
    "                        \"description\": \"The letter to count in the word.\"\n",
    "                    }\n",
    "                },\n",
    "                \"required\": [\"word\", \"letter\"]\n",
    "            }\n",
    "        }\n",
    "    ]\n",
    "\n",
    "    # Create a message to send to the agent\n",
    "    response = client.messages.create(\n",
    "        model=\"claude-3-5-haiku-20241022\",\n",
    "        max_tokens=1024,\n",
    "        tools=tools,\n",
    "        messages=[{\"role\": \"user\", \"content\": user_prompt}]\n",
    "    )\n",
    "\n",
    "    # Check if the agent's response includes a function call\n",
    "    func_call = response.content[1].model_dump()\n",
    "\n",
    "    if func_call[\"name\"] == \"count_letters\":\n",
    "        word = func_call[\"input\"][\"word\"]\n",
    "        letter = func_call[\"input\"][\"letter\"]\n",
    "        count = count_letters(word, letter)\n",
    "        return f\"There are {count} '{letter}'s in the word '{word}'.\"\n",
    "    else:\n",
    "        return \"I count letters. Please provide a valid request.\""
   ]
  },
  {
   "cell_type": "markdown",
   "metadata": {},
   "source": [
    "### Run Agent"
   ]
  },
  {
   "cell_type": "code",
   "execution_count": 4,
   "metadata": {},
   "outputs": [
    {
     "data": {
      "text/plain": [
       "\"There are 3 'r's in the word 'Strawberry'.\""
      ]
     },
     "execution_count": 4,
     "metadata": {},
     "output_type": "execute_result"
    }
   ],
   "source": [
    "query_agent(user_prompt=\"How many R's are there in the word 'Strawberry'?\")"
   ]
  },
  {
   "cell_type": "markdown",
   "metadata": {},
   "source": [
    "## 2. Create MCP server\n",
    "GiT - MCP Client: https://github.com/modelcontextprotocol/python-sdk?tab=readme-ov-file#adding-mcp-to-your-python-project  \n",
    "SmoleAgents MCP Client: https://huggingface.co/docs/smolagents/en/tutorials/tools#tool-collection-from-a-collection-in-the-hub\n"
   ]
  },
  {
   "cell_type": "code",
   "execution_count": null,
   "metadata": {},
   "outputs": [],
   "source": [
    "from mcp import ClientSession, StdioServerParameters, types\n",
    "from mcp.client.stdio import stdio_client\n",
    "\n",
    "async def query_mcp_agent(user_prompt):\n",
    "    \"\"\" Agent able to execute 'count_letters' function using MCP server. \"\"\"\n",
    "    load_dotenv()\n",
    "    API_KEY = os.getenv(\"ANTHROPIC_API_KEY\")\n",
    "\n",
    "    # Create server parameters for stdio connection\n",
    "    server_params = StdioServerParameters(\n",
    "        command=\"uv\",  # Executable\n",
    "        args=[\n",
    "            \"run\",\n",
    "            \"mcp\",\n",
    "            \"run\",\n",
    "            \"mcp_server.py\",\n",
    "        ],\n",
    "    )\n",
    "\n",
    "    # Client transport for stdio:\n",
    "    # - Spawn a process which it will communicate with over stdin/stdout\n",
    "    async with stdio_client(server_params) as (read, write):\n",
    "        async with ClientSession(read, write) as session:\n",
    "\n",
    "            # Initialize the connection\n",
    "            await session.initialize()\n",
    "\n",
    "            # Get tools in MCP server\n",
    "            tools = await session.list_tools()\n",
    "\n",
    "            # Format the tools for the agent\n",
    "            mcp_tools = [tool.model_dump() for tool in tools.tools]\n",
    "\n",
    "            # Fix json schema for input\n",
    "            for tool in mcp_tools:\n",
    "                tool[\"input_schema\"] = tool[\"inputSchema\"]\n",
    "                del tool[\"inputSchema\"]\n",
    "\n",
    "            # Initialize the Anthropic client\n",
    "            client = anthropic.Anthropic(api_key=API_KEY)\n",
    "\n",
    "            # Create a message to send to the agent\n",
    "            response = client.messages.create(\n",
    "                model=\"claude-3-5-haiku-20241022\",\n",
    "                max_tokens=1024,\n",
    "                tools=mcp_tools,\n",
    "                messages=[{\"role\": \"user\", \"content\": user_prompt}]\n",
    "            )\n",
    "\n",
    "            # Check if the agent's response includes a function call\n",
    "            func_call = response.content[1].model_dump()\n",
    "\n",
    "            # Call the function using the MCP server\n",
    "            result = await session.call_tool(\n",
    "                name=func_call[\"name\"],\n",
    "                arguments=func_call[\"input\"]\n",
    "            )\n",
    "\n",
    "            word = func_call[\"input\"][\"word\"]\n",
    "            letter = func_call[\"input\"][\"letter\"]\n",
    "            count = result.content[0].text\n",
    "\n",
    "            return f\"There are {count} '{letter}'s in the word '{word}'.\"\n"
   ]
  },
  {
   "cell_type": "code",
   "execution_count": 9,
   "metadata": {},
   "outputs": [
    {
     "data": {
      "text/plain": [
       "\"There are 3 'r's in the word 'Strawberry'.\""
      ]
     },
     "execution_count": 9,
     "metadata": {},
     "output_type": "execute_result"
    }
   ],
   "source": [
    "await query_mcp_agent(user_prompt=\"How many R's are there in the word 'Strawberry'?\")"
   ]
  },
  {
   "cell_type": "code",
   "execution_count": null,
   "metadata": {},
   "outputs": [],
   "source": []
  }
 ],
 "metadata": {
  "kernelspec": {
   "display_name": ".venv",
   "language": "python",
   "name": "python3"
  },
  "language_info": {
   "codemirror_mode": {
    "name": "ipython",
    "version": 3
   },
   "file_extension": ".py",
   "mimetype": "text/x-python",
   "name": "python",
   "nbconvert_exporter": "python",
   "pygments_lexer": "ipython3",
   "version": "3.12.9"
  }
 },
 "nbformat": 4,
 "nbformat_minor": 2
}
